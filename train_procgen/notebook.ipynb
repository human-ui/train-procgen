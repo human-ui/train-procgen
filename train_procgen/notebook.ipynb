{
 "metadata": {
  "language_info": {
   "codemirror_mode": {
    "name": "ipython",
    "version": 3
   },
   "file_extension": ".py",
   "mimetype": "text/x-python",
   "name": "python",
   "nbconvert_exporter": "python",
   "pygments_lexer": "ipython3",
   "version": "3.7.6-final"
  },
  "orig_nbformat": 2,
  "kernelspec": {
   "name": "python3",
   "display_name": "Python 3",
   "language": "python"
  }
 },
 "nbformat": 4,
 "nbformat_minor": 2,
 "cells": [
  {
   "cell_type": "code",
   "execution_count": null,
   "metadata": {},
   "outputs": [],
   "source": [
    "%load_ext autoreload\n",
    "%autoreload 1\n",
    "%aimport graph_util\n",
    "\n",
    "from pathlib import Path\n",
    "import re\n",
    "import shutil\n",
    "import matplotlib.pyplot as plt\n",
    "\n",
    "from graph_util import plot_experiment, plot_experiments, switch_to_outer_plot\n",
    "from constants import ENV_NAMES, EASY_GAME_RANGES\n",
    "%matplotlib qt\n",
    "\n",
    "cmap = plt.get_cmap(\"tab10\")"
   ]
  },
  {
   "cell_type": "code",
   "execution_count": null,
   "metadata": {},
   "outputs": [],
   "source": [
    "# Copy progress.csv files\n",
    "r = re.compile('Reactor_([^_]*)')\n",
    "for p in Path('/Users/jurgis/Documents/procgen-starter/log').glob('**/progress.csv'):\n",
    "    match = r.search(str(p))\n",
    "    env = match.group(1)\n",
    "    is_gen = '_gen' in str(p)\n",
    "    if is_gen:\n",
    "        dest_path = f'./results/easy-200-r_e356_eaa01ap_hrc_ars_g995_gen-run0/progress-{env}.csv'\n",
    "    else:\n",
    "        dest_path = f'./results/easy-all-r_e356_eaa01ap_hrc_ars_g995-run0/progress-{env}.csv'\n",
    "    print(dest_path)\n",
    "    shutil.copy(p, dest_path)"
   ]
  },
  {
   "cell_type": "code",
   "execution_count": null,
   "metadata": {
    "tags": []
   },
   "outputs": [],
   "source": [
    "f, ax = plot_experiments(False, None, \n",
    "    [{\n",
    "        'run_directory_prefix': 'easy-all-run',\n",
    "        'smoothing': 0.9,\n",
    "        'x_key_name': 'misc/total_timesteps',\n",
    "        'max_x': int(3051/50*8),\n",
    "        'num_runs': 1,\n",
    "        'normalization_ranges': EASY_GAME_RANGES,\n",
    "        'first_valid': 10,\n",
    "    }])"
   ]
  },
  {
   "cell_type": "code",
   "execution_count": null,
   "metadata": {},
   "outputs": [],
   "source": [
    "f, ax = plot_experiments(False, \n",
    "    None, #['bigfish', 'heist', 'starpilot', 'miner'],\n",
    "    [\n",
    "        {\n",
    "            'color': cmap(0),\n",
    "            'label': 'Sample efficiency',\n",
    "            'run_directory_prefix': 'easy-all-r_e356_eaa01ap_hrc_ars_g995-run', \n",
    "            'key_name': 'episode_reward_mean',\n",
    "            'x_key_name': 'info/num_steps_sampled',\n",
    "            'num_runs': 1,\n",
    "            'normalization_ranges': EASY_GAME_RANGES,\n",
    "            'smoothing': 0.7\n",
    "        },\n",
    "        # {\n",
    "        #     'label': 'Generalization (train)',\n",
    "        #     'run_directory_prefix': 'easy-200-r_e356_eaa01ap_hrc_ars_g995_gen-run', \n",
    "        #     'key_name': 'episode_reward_mean',\n",
    "        #     'x_key_name': 'info/num_steps_sampled',\n",
    "        #     'num_runs': 1,\n",
    "        #     'normalization_ranges': EASY_GAME_RANGES,\n",
    "        #     'smoothing': 0.7\n",
    "        # },\n",
    "        {\n",
    "            'color': cmap(1),\n",
    "            'label': 'Generalization (test)',\n",
    "            'run_directory_prefix': 'easy-200-r_e356_eaa01ap_hrc_ars_g995_gen-run', \n",
    "            'key_name': 'evaluation/episode_reward_mean',\n",
    "            'x_key_name': 'info/num_steps_sampled',\n",
    "            'num_runs': 1,\n",
    "            'normalization_ranges': EASY_GAME_RANGES,\n",
    "            'smoothing': 0.7\n",
    "        }\n",
    "    ])\n",
    "\n",
    "ax0 = switch_to_outer_plot(f)\n",
    "ax0.set_xlabel('Timesteps', labelpad=40)\n",
    "ax0.set_ylabel('Normalized Score', labelpad=35)"
   ]
  }
 ]
}